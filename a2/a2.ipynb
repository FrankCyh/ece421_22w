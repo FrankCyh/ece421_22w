{
 "cells": [
  {
   "cell_type": "code",
   "execution_count": 282,
   "metadata": {},
   "outputs": [],
   "source": [
    "import numpy as np\n",
    "import matplotlib.pyplot as plt\n",
    "import time\n",
    "import os\n",
    "os.environ['TF_CPP_MIN_LOG_LEVEL'] = '3'"
   ]
  },
  {
   "cell_type": "markdown",
   "metadata": {},
   "source": [
    "# 1 Neural Networks using Numpy [20pts]"
   ]
  },
  {
   "cell_type": "markdown",
   "metadata": {},
   "source": [
    "Code provided"
   ]
  },
  {
   "cell_type": "code",
   "execution_count": 283,
   "metadata": {},
   "outputs": [],
   "source": [
    "# Load the data\n",
    "def load_data():\n",
    "    with np.load(\"notMNIST.npz\") as data:\n",
    "        data, targets = data[\"images\"], data[\"labels\"]\n",
    "        \n",
    "        np.random.seed(521)\n",
    "        rand_idx = np.arange(len(data))\n",
    "        np.random.shuffle(rand_idx)\n",
    "        \n",
    "        data = data[rand_idx] / 255.0\n",
    "        targets = targets[rand_idx].astype(int)\n",
    "        \n",
    "        train_data, train_target = data[:10000], targets[:10000]\n",
    "        valid_data, valid_target = data[10000:16000], targets[10000:16000]\n",
    "        test_data, test_target = data[16000:], targets[16000:]\n",
    "    return train_data, valid_data, test_data, train_target, valid_target, test_target\n",
    "\n",
    "\n",
    "# Description: convert to one-hot encoding\n",
    "def convert_onehot(train_target, valid_target, test_target):\n",
    "    new_train = np.zeros((train_target.shape[0], 10))\n",
    "    new_valid = np.zeros((valid_target.shape[0], 10))\n",
    "    new_test = np.zeros((test_target.shape[0], 10))\n",
    "\n",
    "    for item in range(0, train_target.shape[0]):\n",
    "        new_train[item][train_target[item]] = 1\n",
    "    for item in range(0, valid_target.shape[0]):\n",
    "        new_valid[item][valid_target[item]] = 1\n",
    "    for item in range(0, test_target.shape[0]):\n",
    "        new_test[item][test_target[item]] = 1\n",
    "    return new_train, new_valid, new_test\n",
    "\n",
    "\n",
    "def shuffle(data, target):\n",
    "    np.random.seed(421)\n",
    "    rand_idx = np.random.permutation(len(data))\n",
    "    return data[rand_idx], target[rand_idx]"
   ]
  },
  {
   "cell_type": "markdown",
   "metadata": {},
   "source": [
    "## 1.1 Helper Functions"
   ]
  },
  {
   "cell_type": "markdown",
   "metadata": {},
   "source": [
    "relu"
   ]
  },
  {
   "cell_type": "code",
   "execution_count": 284,
   "metadata": {},
   "outputs": [
    {
     "name": "stdout",
     "output_type": "stream",
     "text": [
      "3\n",
      "0\n"
     ]
    }
   ],
   "source": [
    "# Implementation of a neural network using only Numpy - trained using gradient descent with momentum\n",
    "def relu(x):\n",
    "    return np.maximum(0, x)\n",
    "\n",
    "# test\n",
    "print(relu(3))\n",
    "print(relu(-1))"
   ]
  },
  {
   "cell_type": "markdown",
   "metadata": {},
   "source": [
    "softmax\n",
    "\n",
    "$$\\sigma(\\mathbf{z})_{j}=\\frac{\\exp \\left(z_{j}\\right)}{\\sum_{k=1}^{K} \\exp \\left(z_{k}\\right)}, \\quad j=1, \\cdots, K \\text { for } \\mathrm{K} \\text { classes }$$"
   ]
  },
  {
   "cell_type": "code",
   "execution_count": 285,
   "metadata": {},
   "outputs": [
    {
     "name": "stdout",
     "output_type": "stream",
     "text": [
      "[0.0320586  0.08714432 0.23688282 0.64391426]\n"
     ]
    }
   ],
   "source": [
    "# Description: takes in a vector, and calculate the probability of each output\n",
    "def softmax(x):\n",
    "    x = x - np.max(x, axis=-1, keepdims=True) # subtract the maximum value of x from all its elements to prevent overflow\n",
    "    num = np.exp(x)\n",
    "    den = np.sum(num, axis=-1, keepdims=True)\n",
    "    x = num / den\n",
    "    return x  \n",
    "\n",
    "# test\n",
    "test_arr = np.array([1, 2, 3, 4])\n",
    "print(softmax(test_arr))"
   ]
  },
  {
   "cell_type": "markdown",
   "metadata": {},
   "source": [
    "compute_layer"
   ]
  },
  {
   "cell_type": "code",
   "execution_count": 286,
   "metadata": {},
   "outputs": [
    {
     "name": "stdout",
     "output_type": "stream",
     "text": [
      "[ 8 11]\n"
     ]
    }
   ],
   "source": [
    "# Description: Compute matrix product of weight, input, then add the bias\n",
    "def compute_layer(X, W, b):\n",
    "    return np.add(np.matmul(X, W), b)\n",
    "\n",
    "# test\n",
    "test_X = np.array([1, 2])\n",
    "test_W = np.array([[1, 2], [3, 4]])\n",
    "test_b = np.array([1, 1])\n",
    "print(compute_layer(test_X, test_W, test_b))\n"
   ]
  },
  {
   "cell_type": "markdown",
   "metadata": {},
   "source": [
    "average_ce"
   ]
  },
  {
   "cell_type": "code",
   "execution_count": 287,
   "metadata": {},
   "outputs": [
    {
     "name": "stdout",
     "output_type": "stream",
     "text": [
      "-1.0397207708399179\n"
     ]
    }
   ],
   "source": [
    "def average_ce(target, prediction):\n",
    "    #* note the prediction should be generated through softmax, not directly from s_o\n",
    "    log_pred = np.log(prediction)\n",
    "    average_ce = -np.mean(target * log_pred)\n",
    "    return average_ce\n",
    "\n",
    "# test\n",
    "test_target = np.array([1, 2])\n",
    "test_pred = np.array([2, 2])\n",
    "print(average_ce(test_target, test_pred))\n"
   ]
  },
  {
   "cell_type": "markdown",
   "metadata": {},
   "source": [
    "grad_ce"
   ]
  },
  {
   "cell_type": "markdown",
   "metadata": {},
   "source": [
    "Calculation of the derivative of softmax function\n",
    "\n",
    "$$\\mathbf{s}(\\mathbf{z})_{j}=\\frac{\\exp \\left(z_{j}\\right)}{\\sum_{k=1}^{K} \\exp \\left(z_{k}\\right)}, \\quad j=1, \\cdots, K \\text { for } \\mathrm{K} \\text { classes }$$\n",
    "\n",
    "$$\n",
    "\\mathbf{s}(\\mathbf{z})=\\frac{e^{\\mathbf{z}}}{\\sum_{k=1}^{K} e^{z_k}}\n",
    "$$\n",
    "\n",
    "$$\n",
    "\\begin{aligned}\n",
    "\\frac{\\partial \\mathbf{s}(\\mathbf{z})}{\\partial \\mathbf{z}} &=\\frac{e^{\\mathbf{z}}\\left(\\sum_{k=1}^{K} e^{z_{k}}\\right)-e^{\\mathbf{z}} \\cdot e^{\\mathbf{z}}}{\\left(\\sum_{k=1}^{K} e^{z_{k}}\\right)^{2}}\n",
    "\\\\&=\\frac{e^{\\mathbf{z}}}{\\sum_{k=1}^{K} e^{z_{k}}} \\cdot \\frac{\\sum_{k=1}^{K} e^{z_{k}}-e^{\\mathbf{z}}}{\\sum_{k=1}^{K} e^{z_{k}}} \\\\\n",
    "&=\\mathbf{s}(\\mathbf{z})\\cdot [1-\\mathbf{s}(\\mathbf{z})]\n",
    "\\end{aligned}\n",
    "$$\n",
    "\n",
    "Expression for cross entropy for $N$ input data $\\mathbf{z}$ and $K$-classes is\n",
    "\n",
    "$$\n",
    "\\begin{aligned}\n",
    "\\mathcal{L}_{CE}&=- \\sum_{n=1}^{N}  y_{n} \\log \\left[\\mathbf{s}(\\mathbf{z})_{n}\\right]\n",
    "\\\\ &=- \\mathbf{y}^{T} \\log \\left[\\mathbf{s}(\\mathbf{z})\\right]\n",
    "\\end{aligned}\n",
    "$$\n",
    "\n",
    "Derivative of $\\mathcal{L}_{C E}$ with respect to $\\mathbf{s}$ is \n",
    "\n",
    "$$\n",
    "\\begin{aligned}\n",
    "\\frac{\\partial \\mathcal{L}_{C E}}{\\partial \\mathbf{s}} &=- \\mathbf{y}^{T} \\log \\left[\\mathbf{s}(\\mathbf{z})\\right]\n",
    "\\\\&=-\\mathbf{y}^{T}\\frac{1}{\\mathbf{s}(\\mathbf{z})}\n",
    "\\end{aligned}\n",
    "$$\n",
    "\n",
    "\n",
    "Using the chain rule, we calculate the derivative of $\\mathcal{L}_{C E}$ with respect to $\\mathbf{z}$ \n",
    "\n",
    "$$\n",
    "\\begin{aligned}\n",
    "\\frac{\\partial \\mathcal{L}_{C E}}{\\partial \\mathbf{z}} \n",
    "&= \\frac{\\partial \\mathcal{L}_{C E}}{\\partial \\mathbf{s}} \\cdot \\frac{\\partial \\mathbf{s}}{\\partial \\mathbf{z}}\n",
    "\\\\&=-\\mathbf{y}^{T}\\frac{1}{\\mathbf{s}(\\mathbf{z})} \\cdot \\mathbf{s}(\\mathbf{z})[1-\\mathbf{s}(\\mathbf{z})]\n",
    "\\\\&=\\mathbf{s}(\\mathbf{z})-\\mathbf{y}\n",
    "\\end{aligned}\n",
    "$$\n"
   ]
  },
  {
   "cell_type": "code",
   "execution_count": 288,
   "metadata": {},
   "outputs": [],
   "source": [
    "# Description: calculate cross-entropy loss\n",
    "def grad_ce(target, logits):\n",
    "    # logits is the input to the softmax function\n",
    "    #* grad_ce does not calculate the average ce, should divide by the size of target to get the step size when training\n",
    "    return softmax(logits) - target"
   ]
  },
  {
   "cell_type": "markdown",
   "metadata": {},
   "source": [
    "## 1.2 Backpropagation Derivation [8 pts.]"
   ]
  },
  {
   "cell_type": "markdown",
   "metadata": {},
   "source": [
    "1. $$\\frac{\\partial \\mathcal{L}}{\\partial {W}_{o}}$$\n",
    "\n",
    "Gradient of the loss with respect to the output layer weights [2pts]\n",
    "\n",
    "Shape: (H × 10), with H units"
   ]
  },
  {
   "cell_type": "markdown",
   "metadata": {},
   "source": [
    "Loss of the output layer $\\ell_o$ with respect to output layer weights depends on the input $\\mathbf{s}_o$ of the layer $\\ell_o$, output $\\mathbf{x}_o$ of the layer $\\ell_o$, and the loss function $\\mathbf{s}(\\mathbf{z})$.\n",
    "$$\n",
    "\\frac{\\partial \\mathrm{s}_{o}}{\\partial W_{o}}=\\frac{\\partial}{\\partial W_{o}}\\left(\\mathbf{x}_{h} W_{o}+b_{o}\\right)=\\mathbf{x_h}\n",
    "$$\n",
    "\n",
    "$$\n",
    "\\begin{aligned}\n",
    "\\frac{\\partial \\mathcal{L}}{\\partial {W}_{o}}&=\\frac{\\partial \\mathcal{L}_{CE}}{\\partial \\mathbf{x}_{o}} \\frac{\\partial \\mathbf{x}_{o}}{\\partial \\mathbf{s}_{o}}\\frac{\\partial \\mathbf{s}_{o}}{\\partial {W}_\n",
    "{o}}\n",
    "\\\\&= \\mathbf{x}_{h}^{T}[\\mathbf{s}(\\mathbf{x_o})-\\mathbf{y}]\n",
    "\\end{aligned}\n",
    "$$\n",
    "\n",
    "where $\\mathbf{x}_{h}$ is the output of the hidde layer $\\ell_h$\n",
    "\n",
    "p.s. first two partial derivative is derived from last question"
   ]
  },
  {
   "cell_type": "code",
   "execution_count": 289,
   "metadata": {},
   "outputs": [],
   "source": [
    "def grad_W_o(target, s_o, x_h):\n",
    "    dL_dso =  grad_ce(target, s_o)\n",
    "    dL_dWo = np.matmul(np.transpose(x_h), dL_dso)\n",
    "    return dL_dWo / target.shape[0]"
   ]
  },
  {
   "cell_type": "markdown",
   "metadata": {},
   "source": [
    "2. \n",
    "$$\\frac{\\partial \\mathcal{L}}{\\partial \\mathbf{b}_{o}}$$\n",
    "\n",
    "Gradient of the loss with respect to the output layer biases. [2pts]\n",
    "\n",
    "Shape: (1 × 10)"
   ]
  },
  {
   "cell_type": "markdown",
   "metadata": {},
   "source": [
    "Loss of the output layer $\\ell_o$ with respect to output layer bias depends on the input $\\mathbf{s}_o$ of the layer $\\ell_o$, output $\\mathbf{x}_o$ of the layer $\\ell_o$, and the unit vector $\\mathbf{1} \\in \\mathbb{R}^{N \\times 1}$, whose elements are all one.\n",
    "\n",
    "$$\n",
    "\\frac{\\partial \\mathrm{s}_{o}}{\\partial b_{o}}=\\frac{\\partial}{\\partial b_{o}}\\left(\\mathbf{x}_{h} W_{o}+b_{o}\\right)=\\mathbf{1}\n",
    "$$\n",
    "\n",
    "$$\n",
    "\\begin{aligned}\n",
    "\\frac{\\partial \\mathcal{L}}{\\partial {W}_{o}}&=\\frac{\\partial \\mathcal{L}_{CE}}{\\partial \\mathbf{x}_{o}} \\frac{\\partial \\mathbf{x}_{o}}{\\partial \\mathbf{s}_{o}}\\frac{\\partial \\mathbf{s}_{o}}{\\partial {b}_\n",
    "{o}}\n",
    "\\\\&= \\mathbf{1}^{T}\\left(\\mathbf{s}(\\mathbf{x_o})-\\mathbf{y}\\right) \n",
    "\\end{aligned}\n",
    "$$"
   ]
  },
  {
   "cell_type": "code",
   "execution_count": 290,
   "metadata": {},
   "outputs": [],
   "source": [
    "def grad_b_o(target, s_o):\n",
    "    dL_dso = grad_ce(target, s_o)\n",
    "    dso_dbo = np.ones((target.shape[0],1))\n",
    "    dL_dbo = np.matmul(np.transpose(dL_dso), dso_dbo)\n",
    "    return sum(dL_dbo) / target.shape[0]"
   ]
  },
  {
   "cell_type": "markdown",
   "metadata": {},
   "source": [
    "3. \n",
    "$$\\frac{\\partial \\mathcal{L}}{\\partial {W}_{h}}$$\n",
    "\n",
    "Gradient of the loss with respect to the output layer weights. [2pts]\n",
    "\n",
    "Shape: ($F \\times H$), with $F$ features, $H$ units"
   ]
  },
  {
   "cell_type": "markdown",
   "metadata": {},
   "source": [
    "$$\n",
    "\\frac{\\partial \\mathcal{L}}{\\partial W_{h}}=\\frac{\\partial \\mathcal{L}_{CE}}{\\partial \\mathbf{x}_{o}} \\frac{\\partial \\mathbf{x}_{o}}{\\partial \\mathbf{s}_{o}} \\frac{\\partial \\mathbf{s}_{o}}{\\partial \\mathbf{x}_{h}}\\cdot \\frac{\\partial \\mathbf{x}_{h}}{\\partial \\mathbf{s}_{h}} \\frac{\\partial \\mathbf{s}_{h}}{\\partial {W}_{h}}\n",
    "$$\n",
    "The dot product separate the output layer and the hidden layer.\n",
    "\n",
    "The first two terms of output layer is calculated in previous question as $\\mathbf{s}(\\mathbf{x_o})-\\mathbf{y}$\n",
    "\n",
    "\n",
    "The third term $\\frac{\\partial \\mathbf{s}_{o}}{\\partial \\mathbf{x}_{h}}$ is calculated as\n",
    "$$\n",
    "\\frac{\\partial \\mathbf{s}_{o}}{\\partial \\mathbf{x}_{h}}\n",
    "=\\frac{\\partial}{\\partial x_{h}}\\left(x_{h} W_{o}+b_{o}\\right)=W_{o}\n",
    "$$\n",
    "\n",
    "The fourth term $\\frac{\\partial \\mathbf{x}_{h}}{\\partial \\mathbf{s}_{h}}$ is the derivative of the RELU function, which is $\\mathbf{1}$ for $\\mathbf{s}_{h} > 0$\n",
    "$$\n",
    "\\frac{\\partial \\mathbf{x}_{h}}{\\partial \\mathbf{s}_{h}}=\\frac{\\partial}{\\partial \\mathbf{s}_{h}}\\left(\\operatorname{ReLU}\\left(\\mathbf{s}_{h}\\right)\\right)=\\mathbf{1}(\\mathbf{x_h}>0)\n",
    "$$\n",
    "\n",
    "The fifth term $\\frac{\\partial \\mathbf{s}_{h}}{\\partial W_{h}}$ is calculated as\n",
    "$$\\frac{\\partial}{\\partial W_{h}}\\left(\\mathbf{x}_{in} W_{h}+b_{h}\\right) $$\n",
    "\n",
    "Thus, the result should be \n",
    "$$\n",
    "\\begin{aligned}\n",
    "\\frac{\\partial \\mathcal{L}}{\\partial W_{h}}&=\\frac{\\partial \\mathcal{L}_{CE}}{\\partial \\mathbf{x}_{o}} \\frac{\\partial \\mathbf{x}_{o}}{\\partial \\mathbf{s}_{o}} \\frac{\\partial \\mathbf{s}_{o}}{\\partial \\mathbf{x}_{h}}\\cdot \\frac{\\partial \\mathbf{x}_{h}}{\\partial \\mathbf{s}_{h}} \\frac{\\partial \\mathbf{s}_{h}}{\\partial {W}_{h}}\n",
    "\\\\&=\\mathbf{x}_{in}^{T}(\\mathbf{s(x_o)}-\\mathbf{y}) W_{o}^{T} \\mathbf{1}\\left(\\mathbf{x}_{h}>0\\right)\n",
    "\\end{aligned}\n",
    "$$"
   ]
  },
  {
   "cell_type": "code",
   "execution_count": 291,
   "metadata": {},
   "outputs": [],
   "source": [
    "def grad_W_h(target, s_o, x_in, x_h, W_o):\n",
    "    dL_dso = grad_ce(target, s_o)\n",
    "    dL_dxh = np.matmul(dL_dso, np.transpose(W_o))\n",
    "    \n",
    "    # relu activation function only depends on the value of x_h\n",
    "    dxh_dsh = x_h\n",
    "    dxh_dsh [dxh_dsh <= 0] = 0\n",
    "    dxh_dsh [dxh_dsh > 0] = 1\n",
    "    \n",
    "    dL_dsh = dL_dxh * dxh_dsh\n",
    "    dL_dWh = np.matmul(np.transpose(x_in), dL_dsh)\n",
    "    return dL_dWh / target.shape[0]"
   ]
  },
  {
   "cell_type": "markdown",
   "metadata": {},
   "source": [
    "4. \n",
    "$$\\frac{\\partial \\mathcal{L}}{\\partial \\mathbf{b}_{h}}$$\n",
    "\n",
    "Gradient of the loss with respect to the output layer biases. [2pts]\n",
    "\n",
    "Shape: ($F \\times H$), with $F$ features, $H$ units"
   ]
  },
  {
   "cell_type": "markdown",
   "metadata": {},
   "source": [
    "The result is calculated similar to the previous one, except for the last derivative $\\frac{\\partial \\mathbf{s}_{h}}{\\partial {b}_{h}}$\n",
    "\n",
    "$$\n",
    "\\frac{\\partial \\mathbf{s}_{h}}{\\partial {b}_{h}}=\\frac{\\partial}{\\partial b_{h}}\\left(\\mathbf{x}_{in} W_{h}+b_{h}\\right)=\\mathbf{1}\n",
    "$$\n",
    "\n",
    "Thus, the result should be\n",
    "\n",
    "$$\n",
    "\\begin{aligned}\n",
    "\\frac{\\partial \\mathcal{L}}{\\partial b_{h}}&=\\frac{\\partial \\mathcal{L}_{CE}}{\\partial \\mathbf{x}_{o}} \\frac{\\partial \\mathbf{x}_{o}}{\\partial \\mathbf{s}_{o}} \\frac{\\partial \\mathbf{s}_{o}}{\\partial \\mathbf{x}_{h}}\\cdot \\frac{\\partial \\mathbf{x}_{h}}{\\partial \\mathbf{s}_{h}} \\frac{\\partial \\mathbf{s}_{h}}{\\partial {b}_{h}}\n",
    "\\\\&=\\mathbf{1}^{T}(\\mathbf{s(x_o)}-\\mathbf{y}) W_{o}^{T} \\mathbf{1}\\left(\\mathbf{x}_{h}>0\\right)\n",
    "\\end{aligned}\n",
    "\n",
    "$$"
   ]
  },
  {
   "cell_type": "code",
   "execution_count": 292,
   "metadata": {},
   "outputs": [],
   "source": [
    "def grad_b_h(target, s_o, x_h, W_o):\n",
    "    dL_dso = grad_ce(target, s_o)\n",
    "    dL_dxh = np.matmul(dL_dso, np.transpose(W_o))\n",
    "\n",
    "    dxh_dsh = x_h\n",
    "    dxh_dsh[dxh_dsh <= 0] = 0\n",
    "    dxh_dsh[dxh_dsh > 0] = 1\n",
    "\n",
    "    dL_dsh = dL_dxh * dxh_dsh\n",
    "    dL_dbh = np.matmul(np.ones((1, x_h.shape[0])), dL_dsh)\n",
    "    return dL_dbh / target.shape[0]\n"
   ]
  },
  {
   "cell_type": "markdown",
   "metadata": {},
   "source": [
    "# 1.3  Learning [6 pts.]"
   ]
  },
  {
   "cell_type": "markdown",
   "metadata": {},
   "source": [
    "Function for ploting the accuracy and loss with epoches"
   ]
  },
  {
   "cell_type": "code",
   "execution_count": 305,
   "metadata": {},
   "outputs": [],
   "source": [
    "def plot_curves(train_acc, train_loss, val_acc, val_loss, test_acc, test_loss):\n",
    "    num = len(train_acc)\n",
    "\n",
    "    plt.figure(figsize=(12, 8))\n",
    "    plt.title(\"Training Loss vs Epochs\")\n",
    "    plt.xlabel(\"Epoch\")\n",
    "    plt.ylabel(\"Loss\")\n",
    "\n",
    "    plt.plot(range(1, 1 + num), train_loss, 'g', label=\"Train\")\n",
    "    plt.plot(range(1, 1 + num), val_loss, 'b', label=\"Validation\")\n",
    "    #plt.plot(range(1, 1 + num), test_loss, 'r', label=\"Test\")\n",
    "    plt.legend(loc='best')\n",
    "    plt.show()\n",
    "\n",
    "    print(\"Final round loss: \")\n",
    "    print(f\"Training Loss: {train_loss[-1]}\")\n",
    "    print(f\"Validation Loss: {val_loss[-1]}\")\n",
    "    print(f\"Testing Loss: {test_loss[-1]}\")\n",
    "\n",
    "    plt.figure(figsize=(12, 8))\n",
    "    plt.title(\"Training Accuracy vs Epochs\")\n",
    "    plt.xlabel(\"Epoch\")\n",
    "    plt.ylabel(\"Accuracy\")\n",
    "\n",
    "    plt.plot(range(1, 1 + num), train_acc, 'g', label=\"Train\")\n",
    "    plt.plot(range(1, 1 + num), val_acc, 'b', label=\"Validation\")\n",
    "    #plt.plot(range(1, 1 + num), test_acc, 'r', label=\"Test\")\n",
    "    plt.legend(loc='best')\n",
    "    plt.show()\n",
    "\n",
    "    print(\"Final round accuracy: \")\n",
    "    print(f\"Final Training Accuracy: {train_acc[-1]}\")\n",
    "    print(f\"Final Validation Accuracy: {val_acc[-1]}\")\n",
    "    print(f\"Final Testing Accuracy: {test_acc[-1]}\")\n"
   ]
  },
  {
   "cell_type": "markdown",
   "metadata": {},
   "source": [
    "Helper function for forward and backward pass, used in training epoches"
   ]
  },
  {
   "cell_type": "code",
   "execution_count": 294,
   "metadata": {},
   "outputs": [],
   "source": [
    "def forward_pass (x_in, W_h, b_h, W_o, b_o):\n",
    "    s_h = compute_layer(x_in, W_h, b_h)\n",
    "    x_h = relu(s_h)\n",
    "    o = compute_layer(x_h, W_o, b_o)\n",
    "    return s_h, x_h, o"
   ]
  },
  {
   "cell_type": "code",
   "execution_count": 300,
   "metadata": {},
   "outputs": [],
   "source": [
    "# Description: gradient descent wit momentum\n",
    "def backward_pass(x_in, x_h, s_o, W_h, W_o, b_h, b_o, target, vW_h, vb_h, vW_o, vb_o, gamma, alpha):\n",
    "    # choose gamma = 0.99 and alpha = 0.1\n",
    "    vW_h = gamma * vW_h + alpha * grad_W_h(target, s_o, x_in, x_h, W_o)\n",
    "    W_h -= vW_h\n",
    "\n",
    "    vb_h = gamma * vb_h + alpha * grad_b_h(target, s_o, x_h, W_o)\n",
    "    b_h -= vb_h\n",
    "\n",
    "    vW_o = gamma * vW_o + alpha * grad_W_o(target, s_o, x_h)\n",
    "    W_o -= vW_o\n",
    "\n",
    "    vb_o = gamma * vb_o + alpha * grad_b_o(target, s_o)\n",
    "    b_o -= vb_o\n",
    "\n",
    "    return W_h, b_h, W_o, b_o, vW_h, vb_h, vW_o, vb_o\n"
   ]
  },
  {
   "cell_type": "markdown",
   "metadata": {},
   "source": [
    "Helper function for Xaiver initialization"
   ]
  },
  {
   "cell_type": "code",
   "execution_count": 296,
   "metadata": {},
   "outputs": [],
   "source": [
    "# Description: Initialize weights following the Xaiver initialization scheme\n",
    "def XavierInit(units_in, units_out):\n",
    "    return np.random.normal(0, np.sqrt(2.0 / (units_in + units_out)), (units_in, units_out)) # mean, variance and dimension"
   ]
  },
  {
   "cell_type": "markdown",
   "metadata": {},
   "source": [
    "Import data"
   ]
  },
  {
   "cell_type": "code",
   "execution_count": 297,
   "metadata": {},
   "outputs": [],
   "source": [
    "# import data and convert from notMNIST to one-hot target\n",
    "trainData, validData, testData, trainTarget, validTarget, testTarget = load_data()\n",
    "\n",
    "trainData = trainData.reshape(trainData.shape[0], -1)\n",
    "validData = validData.reshape(validData.shape[0], -1)\n",
    "testData = testData.reshape(testData.shape[0], -1)\n",
    "\n",
    "trainTarget, validTarget, testTarget = convert_onehot(trainTarget, validTarget, testTarget)"
   ]
  },
  {
   "cell_type": "markdown",
   "metadata": {},
   "source": [
    "Initialize weights and parameters"
   ]
  },
  {
   "cell_type": "code",
   "execution_count": 298,
   "metadata": {},
   "outputs": [],
   "source": [
    "# Initialize parameters and weights\n",
    "tot_epoches = 200\n",
    "H = 1000\n",
    "F = trainData.shape[1]\n",
    "\n",
    "W_o=XavierInit(H, 10)\n",
    "b_o = np.zeros((1, 10))\n",
    "W_h=XavierInit(F, H)\n",
    "b_h = np.zeros((1, H))\n",
    "\n",
    "# initialize nu matrix to a very small value\n",
    "vW_o = 1e-5 * np.ones((H, 10))\n",
    "vb_o = 1e-5 * np.ones((1, 10))\n",
    "vW_h = 1e-5 * np.ones((F, H))\n",
    "vb_h = 1e-5 * np.ones((1, H))\n",
    "\n",
    "train_accuracy, valid_accuracy, test_accuracy, train_loss, valid_loss, test_loss = [], [], [], [], [], []\n"
   ]
  },
  {
   "cell_type": "code",
   "execution_count": 304,
   "metadata": {},
   "outputs": [
    {
     "name": "stdout",
     "output_type": "stream",
     "text": [
      "Epoch Number\tTraining Accuracy\tTraining Loss\t\tValidation Accuracy\tValidation Loss\t\tTesting Accuracy\tTesting Loss\n",
      "0 \t\t    0.99820 \t\t    0.00069 \t\t    0.90650 \t\t    0.08658 \t\t    0.90088 \t\t    0.09460\n",
      "1 \t\t    0.99880 \t\t    0.00068 \t\t    0.90550 \t\t    0.08680 \t\t    0.90088 \t\t    0.09500\n",
      "2 \t\t    0.99890 \t\t    0.00066 \t\t    0.90600 \t\t    0.08699 \t\t    0.90088 \t\t    0.09541\n",
      "3 \t\t    0.99880 \t\t    0.00064 \t\t    0.90583 \t\t    0.08718 \t\t    0.90051 \t\t    0.09581\n",
      "4 \t\t    0.99870 \t\t    0.00062 \t\t    0.90583 \t\t    0.08737 \t\t    0.90015 \t\t    0.09619\n",
      "5 \t\t    0.99880 \t\t    0.00061 \t\t    0.90600 \t\t    0.08757 \t\t    0.90088 \t\t    0.09657\n",
      "6 \t\t    0.99860 \t\t    0.00059 \t\t    0.90567 \t\t    0.08779 \t\t    0.90162 \t\t    0.09694\n",
      "7 \t\t    0.99870 \t\t    0.00058 \t\t    0.90583 \t\t    0.08801 \t\t    0.90125 \t\t    0.09728\n",
      "8 \t\t    0.99880 \t\t    0.00057 \t\t    0.90600 \t\t    0.08826 \t\t    0.90162 \t\t    0.09759\n",
      "9 \t\t    0.99880 \t\t    0.00056 \t\t    0.90600 \t\t    0.08851 \t\t    0.90125 \t\t    0.09787\n",
      "10 \t\t    0.99880 \t\t    0.00055 \t\t    0.90633 \t\t    0.08877 \t\t    0.90198 \t\t    0.09811\n",
      "11 \t\t    0.99890 \t\t    0.00053 \t\t    0.90633 \t\t    0.08905 \t\t    0.90235 \t\t    0.09834\n",
      "12 \t\t    0.99890 \t\t    0.00052 \t\t    0.90683 \t\t    0.08935 \t\t    0.90235 \t\t    0.09855\n",
      "13 \t\t    0.99890 \t\t    0.00050 \t\t    0.90717 \t\t    0.08967 \t\t    0.90198 \t\t    0.09877\n",
      "14 \t\t    0.99870 \t\t    0.00048 \t\t    0.90650 \t\t    0.09001 \t\t    0.90272 \t\t    0.09899\n",
      "15 \t\t    0.99870 \t\t    0.00047 \t\t    0.90617 \t\t    0.09038 \t\t    0.90198 \t\t    0.09924\n",
      "16 \t\t    0.99870 \t\t    0.00045 \t\t    0.90633 \t\t    0.09077 \t\t    0.90198 \t\t    0.09952\n",
      "17 \t\t    0.99890 \t\t    0.00044 \t\t    0.90683 \t\t    0.09119 \t\t    0.90162 \t\t    0.09983\n",
      "18 \t\t    0.99900 \t\t    0.00043 \t\t    0.90700 \t\t    0.09161 \t\t    0.90198 \t\t    0.10017\n",
      "19 \t\t    0.99910 \t\t    0.00043 \t\t    0.90700 \t\t    0.09204 \t\t    0.90198 \t\t    0.10054\n",
      "20 \t\t    0.99900 \t\t    0.00042 \t\t    0.90717 \t\t    0.09246 \t\t    0.90125 \t\t    0.10092\n",
      "21 \t\t    0.99910 \t\t    0.00042 \t\t    0.90733 \t\t    0.09288 \t\t    0.90162 \t\t    0.10132\n",
      "22 \t\t    0.99930 \t\t    0.00041 \t\t    0.90667 \t\t    0.09329 \t\t    0.90198 \t\t    0.10172\n",
      "23 \t\t    0.99950 \t\t    0.00040 \t\t    0.90650 \t\t    0.09370 \t\t    0.90235 \t\t    0.10213\n",
      "24 \t\t    0.99950 \t\t    0.00039 \t\t    0.90650 \t\t    0.09409 \t\t    0.90235 \t\t    0.10254\n",
      "25 \t\t    0.99950 \t\t    0.00039 \t\t    0.90600 \t\t    0.09448 \t\t    0.90162 \t\t    0.10297\n",
      "26 \t\t    0.99950 \t\t    0.00038 \t\t    0.90567 \t\t    0.09485 \t\t    0.90198 \t\t    0.10339\n",
      "27 \t\t    0.99940 \t\t    0.00038 \t\t    0.90600 \t\t    0.09521 \t\t    0.90198 \t\t    0.10380\n",
      "28 \t\t    0.99930 \t\t    0.00037 \t\t    0.90633 \t\t    0.09556 \t\t    0.90198 \t\t    0.10420\n",
      "29 \t\t    0.99930 \t\t    0.00036 \t\t    0.90683 \t\t    0.09590 \t\t    0.90198 \t\t    0.10459\n",
      "30 \t\t    0.99930 \t\t    0.00035 \t\t    0.90700 \t\t    0.09622 \t\t    0.90235 \t\t    0.10497\n",
      "31 \t\t    0.99940 \t\t    0.00034 \t\t    0.90717 \t\t    0.09653 \t\t    0.90235 \t\t    0.10532\n",
      "32 \t\t    0.99940 \t\t    0.00033 \t\t    0.90667 \t\t    0.09683 \t\t    0.90272 \t\t    0.10567\n",
      "33 \t\t    0.99950 \t\t    0.00031 \t\t    0.90667 \t\t    0.09713 \t\t    0.90235 \t\t    0.10601\n",
      "34 \t\t    0.99960 \t\t    0.00030 \t\t    0.90700 \t\t    0.09743 \t\t    0.90235 \t\t    0.10634\n",
      "35 \t\t    0.99960 \t\t    0.00029 \t\t    0.90683 \t\t    0.09773 \t\t    0.90125 \t\t    0.10666\n",
      "36 \t\t    0.99960 \t\t    0.00028 \t\t    0.90667 \t\t    0.09804 \t\t    0.90162 \t\t    0.10699\n",
      "37 \t\t    0.99960 \t\t    0.00027 \t\t    0.90600 \t\t    0.09835 \t\t    0.90198 \t\t    0.10731\n",
      "38 \t\t    0.99960 \t\t    0.00027 \t\t    0.90583 \t\t    0.09868 \t\t    0.90198 \t\t    0.10764\n",
      "39 \t\t    0.99960 \t\t    0.00026 \t\t    0.90600 \t\t    0.09902 \t\t    0.90162 \t\t    0.10798\n",
      "40 \t\t    0.99960 \t\t    0.00026 \t\t    0.90600 \t\t    0.09936 \t\t    0.90125 \t\t    0.10832\n",
      "41 \t\t    0.99960 \t\t    0.00025 \t\t    0.90617 \t\t    0.09971 \t\t    0.90125 \t\t    0.10867\n",
      "42 \t\t    0.99970 \t\t    0.00025 \t\t    0.90600 \t\t    0.10007 \t\t    0.90088 \t\t    0.10902\n",
      "43 \t\t    0.99980 \t\t    0.00025 \t\t    0.90583 \t\t    0.10043 \t\t    0.90125 \t\t    0.10938\n",
      "44 \t\t    0.99980 \t\t    0.00025 \t\t    0.90567 \t\t    0.10080 \t\t    0.90125 \t\t    0.10975\n",
      "45 \t\t    0.99980 \t\t    0.00025 \t\t    0.90600 \t\t    0.10117 \t\t    0.90125 \t\t    0.11013\n",
      "46 \t\t    0.99970 \t\t    0.00025 \t\t    0.90617 \t\t    0.10155 \t\t    0.90125 \t\t    0.11050\n",
      "47 \t\t    0.99960 \t\t    0.00025 \t\t    0.90617 \t\t    0.10192 \t\t    0.90125 \t\t    0.11087\n",
      "48 \t\t    0.99960 \t\t    0.00025 \t\t    0.90633 \t\t    0.10229 \t\t    0.90125 \t\t    0.11124\n",
      "49 \t\t    0.99970 \t\t    0.00025 \t\t    0.90650 \t\t    0.10266 \t\t    0.90125 \t\t    0.11161\n",
      "50 \t\t    0.99970 \t\t    0.00025 \t\t    0.90650 \t\t    0.10302 \t\t    0.90125 \t\t    0.11197\n",
      "51 \t\t    0.99980 \t\t    0.00025 \t\t    0.90650 \t\t    0.10338 \t\t    0.90125 \t\t    0.11232\n",
      "52 \t\t    0.99980 \t\t    0.00025 \t\t    0.90667 \t\t    0.10374 \t\t    0.90125 \t\t    0.11267\n",
      "53 \t\t    0.99970 \t\t    0.00024 \t\t    0.90650 \t\t    0.10410 \t\t    0.90162 \t\t    0.11302\n",
      "54 \t\t    0.99970 \t\t    0.00024 \t\t    0.90683 \t\t    0.10446 \t\t    0.90125 \t\t    0.11336\n",
      "55 \t\t    0.99970 \t\t    0.00024 \t\t    0.90700 \t\t    0.10481 \t\t    0.90125 \t\t    0.11368\n",
      "56 \t\t    0.99970 \t\t    0.00023 \t\t    0.90700 \t\t    0.10517 \t\t    0.90125 \t\t    0.11401\n",
      "57 \t\t    0.99970 \t\t    0.00023 \t\t    0.90683 \t\t    0.10553 \t\t    0.90125 \t\t    0.11432\n",
      "58 \t\t    0.99970 \t\t    0.00022 \t\t    0.90683 \t\t    0.10588 \t\t    0.90088 \t\t    0.11462\n",
      "59 \t\t    0.99970 \t\t    0.00022 \t\t    0.90667 \t\t    0.10624 \t\t    0.90125 \t\t    0.11491\n",
      "60 \t\t    0.99970 \t\t    0.00021 \t\t    0.90683 \t\t    0.10659 \t\t    0.90088 \t\t    0.11520\n",
      "61 \t\t    0.99980 \t\t    0.00021 \t\t    0.90667 \t\t    0.10694 \t\t    0.90088 \t\t    0.11547\n",
      "62 \t\t    0.99980 \t\t    0.00020 \t\t    0.90650 \t\t    0.10729 \t\t    0.90088 \t\t    0.11574\n",
      "63 \t\t    0.99980 \t\t    0.00020 \t\t    0.90633 \t\t    0.10763 \t\t    0.90088 \t\t    0.11599\n",
      "64 \t\t    0.99980 \t\t    0.00019 \t\t    0.90633 \t\t    0.10796 \t\t    0.90088 \t\t    0.11623\n",
      "65 \t\t    0.99970 \t\t    0.00019 \t\t    0.90617 \t\t    0.10829 \t\t    0.90162 \t\t    0.11646\n",
      "66 \t\t    0.99970 \t\t    0.00019 \t\t    0.90650 \t\t    0.10862 \t\t    0.90198 \t\t    0.11668\n",
      "67 \t\t    0.99970 \t\t    0.00019 \t\t    0.90650 \t\t    0.10893 \t\t    0.90162 \t\t    0.11688\n",
      "68 \t\t    0.99970 \t\t    0.00018 \t\t    0.90650 \t\t    0.10923 \t\t    0.90125 \t\t    0.11706\n",
      "69 \t\t    0.99970 \t\t    0.00018 \t\t    0.90650 \t\t    0.10952 \t\t    0.90125 \t\t    0.11723\n",
      "70 \t\t    0.99970 \t\t    0.00018 \t\t    0.90617 \t\t    0.10980 \t\t    0.90125 \t\t    0.11740\n",
      "71 \t\t    0.99970 \t\t    0.00018 \t\t    0.90633 \t\t    0.11006 \t\t    0.90125 \t\t    0.11755\n",
      "72 \t\t    0.99970 \t\t    0.00018 \t\t    0.90633 \t\t    0.11031 \t\t    0.90162 \t\t    0.11769\n",
      "73 \t\t    0.99970 \t\t    0.00017 \t\t    0.90667 \t\t    0.11055 \t\t    0.90162 \t\t    0.11783\n",
      "74 \t\t    0.99970 \t\t    0.00017 \t\t    0.90617 \t\t    0.11078 \t\t    0.90125 \t\t    0.11796\n",
      "75 \t\t    0.99970 \t\t    0.00017 \t\t    0.90633 \t\t    0.11100 \t\t    0.90162 \t\t    0.11809\n",
      "76 \t\t    0.99980 \t\t    0.00017 \t\t    0.90650 \t\t    0.11121 \t\t    0.90162 \t\t    0.11821\n",
      "77 \t\t    0.99980 \t\t    0.00017 \t\t    0.90667 \t\t    0.11141 \t\t    0.90162 \t\t    0.11834\n",
      "78 \t\t    0.99980 \t\t    0.00017 \t\t    0.90700 \t\t    0.11161 \t\t    0.90162 \t\t    0.11846\n",
      "79 \t\t    0.99980 \t\t    0.00016 \t\t    0.90733 \t\t    0.11180 \t\t    0.90162 \t\t    0.11859\n",
      "80 \t\t    0.99980 \t\t    0.00016 \t\t    0.90683 \t\t    0.11198 \t\t    0.90235 \t\t    0.11872\n",
      "81 \t\t    0.99980 \t\t    0.00016 \t\t    0.90683 \t\t    0.11216 \t\t    0.90235 \t\t    0.11884\n",
      "82 \t\t    0.99980 \t\t    0.00015 \t\t    0.90667 \t\t    0.11234 \t\t    0.90272 \t\t    0.11898\n",
      "83 \t\t    0.99980 \t\t    0.00015 \t\t    0.90700 \t\t    0.11252 \t\t    0.90272 \t\t    0.11911\n",
      "84 \t\t    0.99980 \t\t    0.00015 \t\t    0.90700 \t\t    0.11269 \t\t    0.90345 \t\t    0.11925\n",
      "85 \t\t    0.99980 \t\t    0.00015 \t\t    0.90700 \t\t    0.11286 \t\t    0.90345 \t\t    0.11939\n",
      "86 \t\t    0.99980 \t\t    0.00014 \t\t    0.90733 \t\t    0.11304 \t\t    0.90345 \t\t    0.11953\n",
      "87 \t\t    0.99980 \t\t    0.00014 \t\t    0.90750 \t\t    0.11322 \t\t    0.90345 \t\t    0.11967\n",
      "88 \t\t    0.99980 \t\t    0.00014 \t\t    0.90733 \t\t    0.11340 \t\t    0.90308 \t\t    0.11982\n",
      "89 \t\t    0.99980 \t\t    0.00014 \t\t    0.90750 \t\t    0.11358 \t\t    0.90308 \t\t    0.11997\n",
      "90 \t\t    0.99980 \t\t    0.00013 \t\t    0.90733 \t\t    0.11375 \t\t    0.90308 \t\t    0.12011\n",
      "91 \t\t    0.99980 \t\t    0.00013 \t\t    0.90767 \t\t    0.11394 \t\t    0.90308 \t\t    0.12027\n",
      "92 \t\t    0.99980 \t\t    0.00013 \t\t    0.90750 \t\t    0.11412 \t\t    0.90308 \t\t    0.12042\n",
      "93 \t\t    0.99980 \t\t    0.00013 \t\t    0.90783 \t\t    0.11430 \t\t    0.90308 \t\t    0.12058\n",
      "94 \t\t    0.99980 \t\t    0.00013 \t\t    0.90783 \t\t    0.11449 \t\t    0.90272 \t\t    0.12075\n",
      "95 \t\t    0.99980 \t\t    0.00012 \t\t    0.90783 \t\t    0.11468 \t\t    0.90272 \t\t    0.12092\n",
      "96 \t\t    0.99980 \t\t    0.00012 \t\t    0.90783 \t\t    0.11487 \t\t    0.90235 \t\t    0.12110\n",
      "97 \t\t    0.99980 \t\t    0.00012 \t\t    0.90767 \t\t    0.11506 \t\t    0.90235 \t\t    0.12128\n",
      "98 \t\t    0.99980 \t\t    0.00012 \t\t    0.90767 \t\t    0.11525 \t\t    0.90272 \t\t    0.12146\n",
      "99 \t\t    0.99980 \t\t    0.00012 \t\t    0.90767 \t\t    0.11543 \t\t    0.90308 \t\t    0.12165\n",
      "100 \t\t    0.99980 \t\t    0.00012 \t\t    0.90767 \t\t    0.11562 \t\t    0.90308 \t\t    0.12185\n",
      "101 \t\t    0.99980 \t\t    0.00012 \t\t    0.90767 \t\t    0.11580 \t\t    0.90272 \t\t    0.12205\n",
      "102 \t\t    0.99980 \t\t    0.00012 \t\t    0.90767 \t\t    0.11598 \t\t    0.90272 \t\t    0.12225\n",
      "103 \t\t    0.99980 \t\t    0.00012 \t\t    0.90750 \t\t    0.11616 \t\t    0.90235 \t\t    0.12247\n",
      "104 \t\t    0.99980 \t\t    0.00011 \t\t    0.90750 \t\t    0.11634 \t\t    0.90235 \t\t    0.12269\n",
      "105 \t\t    0.99980 \t\t    0.00011 \t\t    0.90767 \t\t    0.11651 \t\t    0.90272 \t\t    0.12291\n",
      "106 \t\t    0.99980 \t\t    0.00011 \t\t    0.90767 \t\t    0.11668 \t\t    0.90235 \t\t    0.12314\n",
      "107 \t\t    0.99980 \t\t    0.00011 \t\t    0.90767 \t\t    0.11685 \t\t    0.90198 \t\t    0.12338\n",
      "108 \t\t    0.99980 \t\t    0.00011 \t\t    0.90767 \t\t    0.11702 \t\t    0.90162 \t\t    0.12362\n",
      "109 \t\t    0.99980 \t\t    0.00011 \t\t    0.90767 \t\t    0.11718 \t\t    0.90162 \t\t    0.12386\n",
      "110 \t\t    0.99980 \t\t    0.00011 \t\t    0.90783 \t\t    0.11734 \t\t    0.90162 \t\t    0.12411\n",
      "111 \t\t    0.99980 \t\t    0.00010 \t\t    0.90800 \t\t    0.11750 \t\t    0.90162 \t\t    0.12436\n",
      "112 \t\t    0.99980 \t\t    0.00010 \t\t    0.90817 \t\t    0.11766 \t\t    0.90198 \t\t    0.12462\n",
      "113 \t\t    0.99980 \t\t    0.00010 \t\t    0.90800 \t\t    0.11783 \t\t    0.90235 \t\t    0.12487\n",
      "114 \t\t    0.99980 \t\t    0.00010 \t\t    0.90767 \t\t    0.11799 \t\t    0.90235 \t\t    0.12512\n",
      "115 \t\t    0.99980 \t\t    0.00010 \t\t    0.90767 \t\t    0.11815 \t\t    0.90235 \t\t    0.12537\n",
      "116 \t\t    0.99980 \t\t    0.00010 \t\t    0.90783 \t\t    0.11831 \t\t    0.90235 \t\t    0.12562\n",
      "117 \t\t    0.99980 \t\t    0.00010 \t\t    0.90767 \t\t    0.11846 \t\t    0.90235 \t\t    0.12586\n",
      "118 \t\t    0.99980 \t\t    0.00010 \t\t    0.90767 \t\t    0.11862 \t\t    0.90235 \t\t    0.12610\n",
      "119 \t\t    0.99980 \t\t    0.00009 \t\t    0.90767 \t\t    0.11878 \t\t    0.90198 \t\t    0.12633\n",
      "120 \t\t    0.99980 \t\t    0.00009 \t\t    0.90767 \t\t    0.11894 \t\t    0.90198 \t\t    0.12656\n",
      "121 \t\t    0.99980 \t\t    0.00009 \t\t    0.90750 \t\t    0.11910 \t\t    0.90198 \t\t    0.12678\n",
      "122 \t\t    0.99980 \t\t    0.00009 \t\t    0.90750 \t\t    0.11926 \t\t    0.90235 \t\t    0.12700\n",
      "123 \t\t    0.99980 \t\t    0.00009 \t\t    0.90750 \t\t    0.11942 \t\t    0.90235 \t\t    0.12721\n",
      "124 \t\t    0.99980 \t\t    0.00009 \t\t    0.90750 \t\t    0.11957 \t\t    0.90235 \t\t    0.12741\n",
      "125 \t\t    0.99980 \t\t    0.00009 \t\t    0.90767 \t\t    0.11973 \t\t    0.90235 \t\t    0.12760\n",
      "126 \t\t    0.99980 \t\t    0.00009 \t\t    0.90750 \t\t    0.11989 \t\t    0.90235 \t\t    0.12778\n",
      "127 \t\t    0.99980 \t\t    0.00009 \t\t    0.90767 \t\t    0.12004 \t\t    0.90235 \t\t    0.12796\n",
      "128 \t\t    0.99980 \t\t    0.00009 \t\t    0.90767 \t\t    0.12020 \t\t    0.90272 \t\t    0.12814\n",
      "129 \t\t    0.99980 \t\t    0.00009 \t\t    0.90767 \t\t    0.12035 \t\t    0.90272 \t\t    0.12831\n",
      "130 \t\t    0.99980 \t\t    0.00009 \t\t    0.90783 \t\t    0.12051 \t\t    0.90272 \t\t    0.12848\n",
      "131 \t\t    0.99980 \t\t    0.00009 \t\t    0.90767 \t\t    0.12066 \t\t    0.90272 \t\t    0.12864\n",
      "132 \t\t    0.99980 \t\t    0.00009 \t\t    0.90750 \t\t    0.12081 \t\t    0.90272 \t\t    0.12879\n",
      "133 \t\t    0.99980 \t\t    0.00009 \t\t    0.90750 \t\t    0.12096 \t\t    0.90308 \t\t    0.12895\n",
      "134 \t\t    0.99980 \t\t    0.00009 \t\t    0.90750 \t\t    0.12110 \t\t    0.90345 \t\t    0.12910\n",
      "135 \t\t    0.99980 \t\t    0.00009 \t\t    0.90767 \t\t    0.12125 \t\t    0.90272 \t\t    0.12924\n",
      "136 \t\t    0.99980 \t\t    0.00009 \t\t    0.90783 \t\t    0.12139 \t\t    0.90272 \t\t    0.12938\n",
      "137 \t\t    0.99980 \t\t    0.00009 \t\t    0.90750 \t\t    0.12153 \t\t    0.90272 \t\t    0.12952\n",
      "138 \t\t    0.99980 \t\t    0.00009 \t\t    0.90733 \t\t    0.12166 \t\t    0.90272 \t\t    0.12966\n",
      "139 \t\t    0.99980 \t\t    0.00008 \t\t    0.90733 \t\t    0.12179 \t\t    0.90272 \t\t    0.12979\n",
      "140 \t\t    0.99980 \t\t    0.00008 \t\t    0.90733 \t\t    0.12193 \t\t    0.90272 \t\t    0.12992\n",
      "141 \t\t    0.99980 \t\t    0.00008 \t\t    0.90733 \t\t    0.12205 \t\t    0.90272 \t\t    0.13005\n",
      "142 \t\t    0.99980 \t\t    0.00008 \t\t    0.90750 \t\t    0.12218 \t\t    0.90272 \t\t    0.13018\n",
      "143 \t\t    0.99980 \t\t    0.00008 \t\t    0.90767 \t\t    0.12230 \t\t    0.90272 \t\t    0.13030\n",
      "144 \t\t    0.99980 \t\t    0.00008 \t\t    0.90750 \t\t    0.12242 \t\t    0.90272 \t\t    0.13042\n",
      "145 \t\t    0.99980 \t\t    0.00008 \t\t    0.90750 \t\t    0.12254 \t\t    0.90272 \t\t    0.13054\n",
      "146 \t\t    0.99980 \t\t    0.00008 \t\t    0.90733 \t\t    0.12266 \t\t    0.90272 \t\t    0.13065\n",
      "147 \t\t    0.99980 \t\t    0.00008 \t\t    0.90750 \t\t    0.12278 \t\t    0.90235 \t\t    0.13076\n",
      "148 \t\t    0.99980 \t\t    0.00008 \t\t    0.90750 \t\t    0.12289 \t\t    0.90235 \t\t    0.13087\n",
      "149 \t\t    0.99980 \t\t    0.00008 \t\t    0.90750 \t\t    0.12301 \t\t    0.90272 \t\t    0.13097\n",
      "150 \t\t    0.99980 \t\t    0.00008 \t\t    0.90733 \t\t    0.12312 \t\t    0.90272 \t\t    0.13107\n",
      "151 \t\t    0.99980 \t\t    0.00007 \t\t    0.90733 \t\t    0.12324 \t\t    0.90235 \t\t    0.13117\n",
      "152 \t\t    0.99980 \t\t    0.00007 \t\t    0.90717 \t\t    0.12335 \t\t    0.90235 \t\t    0.13126\n",
      "153 \t\t    0.99980 \t\t    0.00007 \t\t    0.90733 \t\t    0.12346 \t\t    0.90272 \t\t    0.13135\n",
      "154 \t\t    0.99980 \t\t    0.00007 \t\t    0.90733 \t\t    0.12357 \t\t    0.90272 \t\t    0.13144\n",
      "155 \t\t    0.99980 \t\t    0.00007 \t\t    0.90733 \t\t    0.12368 \t\t    0.90272 \t\t    0.13153\n",
      "156 \t\t    0.99980 \t\t    0.00007 \t\t    0.90750 \t\t    0.12379 \t\t    0.90272 \t\t    0.13161\n",
      "157 \t\t    0.99980 \t\t    0.00007 \t\t    0.90767 \t\t    0.12390 \t\t    0.90272 \t\t    0.13169\n",
      "158 \t\t    0.99980 \t\t    0.00007 \t\t    0.90767 \t\t    0.12401 \t\t    0.90272 \t\t    0.13176\n",
      "159 \t\t    0.99980 \t\t    0.00007 \t\t    0.90783 \t\t    0.12412 \t\t    0.90272 \t\t    0.13184\n",
      "160 \t\t    0.99980 \t\t    0.00007 \t\t    0.90783 \t\t    0.12423 \t\t    0.90272 \t\t    0.13191\n",
      "161 \t\t    0.99980 \t\t    0.00007 \t\t    0.90783 \t\t    0.12433 \t\t    0.90272 \t\t    0.13198\n",
      "162 \t\t    0.99980 \t\t    0.00007 \t\t    0.90783 \t\t    0.12444 \t\t    0.90272 \t\t    0.13204\n",
      "163 \t\t    0.99980 \t\t    0.00007 \t\t    0.90767 \t\t    0.12454 \t\t    0.90235 \t\t    0.13211\n",
      "164 \t\t    0.99980 \t\t    0.00007 \t\t    0.90783 \t\t    0.12465 \t\t    0.90235 \t\t    0.13217\n",
      "165 \t\t    0.99980 \t\t    0.00007 \t\t    0.90783 \t\t    0.12475 \t\t    0.90198 \t\t    0.13224\n",
      "166 \t\t    0.99980 \t\t    0.00007 \t\t    0.90817 \t\t    0.12485 \t\t    0.90198 \t\t    0.13230\n",
      "167 \t\t    0.99980 \t\t    0.00007 \t\t    0.90833 \t\t    0.12494 \t\t    0.90235 \t\t    0.13236\n",
      "168 \t\t    0.99980 \t\t    0.00007 \t\t    0.90833 \t\t    0.12504 \t\t    0.90235 \t\t    0.13242\n",
      "169 \t\t    0.99980 \t\t    0.00007 \t\t    0.90800 \t\t    0.12514 \t\t    0.90235 \t\t    0.13248\n",
      "170 \t\t    0.99980 \t\t    0.00007 \t\t    0.90800 \t\t    0.12523 \t\t    0.90235 \t\t    0.13254\n",
      "171 \t\t    0.99980 \t\t    0.00007 \t\t    0.90800 \t\t    0.12532 \t\t    0.90235 \t\t    0.13259\n",
      "172 \t\t    0.99980 \t\t    0.00007 \t\t    0.90800 \t\t    0.12541 \t\t    0.90235 \t\t    0.13265\n",
      "173 \t\t    0.99980 \t\t    0.00007 \t\t    0.90783 \t\t    0.12550 \t\t    0.90235 \t\t    0.13270\n",
      "174 \t\t    0.99980 \t\t    0.00006 \t\t    0.90783 \t\t    0.12559 \t\t    0.90235 \t\t    0.13276\n",
      "175 \t\t    0.99980 \t\t    0.00006 \t\t    0.90783 \t\t    0.12568 \t\t    0.90235 \t\t    0.13281\n",
      "176 \t\t    0.99980 \t\t    0.00006 \t\t    0.90783 \t\t    0.12577 \t\t    0.90235 \t\t    0.13287\n",
      "177 \t\t    0.99980 \t\t    0.00006 \t\t    0.90767 \t\t    0.12586 \t\t    0.90235 \t\t    0.13292\n",
      "178 \t\t    0.99980 \t\t    0.00006 \t\t    0.90783 \t\t    0.12595 \t\t    0.90235 \t\t    0.13298\n",
      "179 \t\t    0.99980 \t\t    0.00006 \t\t    0.90800 \t\t    0.12603 \t\t    0.90235 \t\t    0.13303\n",
      "180 \t\t    0.99980 \t\t    0.00006 \t\t    0.90800 \t\t    0.12612 \t\t    0.90235 \t\t    0.13309\n",
      "181 \t\t    0.99980 \t\t    0.00006 \t\t    0.90800 \t\t    0.12620 \t\t    0.90235 \t\t    0.13315\n",
      "182 \t\t    0.99980 \t\t    0.00006 \t\t    0.90783 \t\t    0.12628 \t\t    0.90272 \t\t    0.13320\n",
      "183 \t\t    0.99980 \t\t    0.00006 \t\t    0.90800 \t\t    0.12637 \t\t    0.90272 \t\t    0.13326\n",
      "184 \t\t    0.99980 \t\t    0.00006 \t\t    0.90783 \t\t    0.12645 \t\t    0.90272 \t\t    0.13332\n",
      "185 \t\t    0.99980 \t\t    0.00006 \t\t    0.90767 \t\t    0.12653 \t\t    0.90272 \t\t    0.13338\n",
      "186 \t\t    0.99980 \t\t    0.00006 \t\t    0.90767 \t\t    0.12661 \t\t    0.90272 \t\t    0.13344\n",
      "187 \t\t    0.99980 \t\t    0.00006 \t\t    0.90767 \t\t    0.12669 \t\t    0.90272 \t\t    0.13351\n",
      "188 \t\t    0.99980 \t\t    0.00006 \t\t    0.90750 \t\t    0.12677 \t\t    0.90272 \t\t    0.13357\n",
      "189 \t\t    0.99980 \t\t    0.00006 \t\t    0.90750 \t\t    0.12684 \t\t    0.90235 \t\t    0.13364\n",
      "190 \t\t    0.99980 \t\t    0.00006 \t\t    0.90767 \t\t    0.12692 \t\t    0.90235 \t\t    0.13371\n",
      "191 \t\t    0.99980 \t\t    0.00006 \t\t    0.90750 \t\t    0.12699 \t\t    0.90272 \t\t    0.13378\n",
      "192 \t\t    0.99980 \t\t    0.00006 \t\t    0.90767 \t\t    0.12707 \t\t    0.90272 \t\t    0.13385\n",
      "193 \t\t    0.99980 \t\t    0.00006 \t\t    0.90767 \t\t    0.12714 \t\t    0.90272 \t\t    0.13393\n",
      "194 \t\t    0.99980 \t\t    0.00006 \t\t    0.90767 \t\t    0.12721 \t\t    0.90272 \t\t    0.13401\n",
      "195 \t\t    0.99980 \t\t    0.00006 \t\t    0.90767 \t\t    0.12728 \t\t    0.90235 \t\t    0.13408\n",
      "196 \t\t    0.99980 \t\t    0.00006 \t\t    0.90767 \t\t    0.12734 \t\t    0.90235 \t\t    0.13417\n",
      "197 \t\t    0.99980 \t\t    0.00006 \t\t    0.90750 \t\t    0.12741 \t\t    0.90235 \t\t    0.13425\n",
      "198 \t\t    0.99980 \t\t    0.00006 \t\t    0.90750 \t\t    0.12747 \t\t    0.90235 \t\t    0.13433\n",
      "199 \t\t    0.99980 \t\t    0.00006 \t\t    0.90733 \t\t    0.12753 \t\t    0.90235 \t\t    0.13442\n"
     ]
    }
   ],
   "source": [
    "# print the data\n",
    "print(\"Epoch Number\\tTraining Accuracy\\tTraining Loss\\t\\tValidation Accuracy\\tValidation Loss\\t\\tTesting Accuracy\\tTesting Loss\")\n",
    "\n",
    "for epoch in range(tot_epoches):\n",
    "    ## training\n",
    "    #$ forward propagation\n",
    "    s_h, x_h, s_o = forward_pass(trainData, W_h, b_h, W_o, b_o)\n",
    "    p = softmax(s_o)\n",
    "\n",
    "    #$ backward propagation\n",
    "    W_h, b_h, W_o, b_o, vW_h, vb_h, vW_o, vb_o = backward_pass(trainData, x_h, s_o, W_h, W_o, b_h, b_o, trainTarget, vW_h, vb_h, vW_o, vb_o, gamma=0.99, alpha=0.1)\n",
    "\n",
    "    #$ append loss and accuracy\n",
    "    loss = average_ce(trainTarget, p)\n",
    "    train_loss.append(loss)\n",
    "\n",
    "    accuracy = np.sum(np.argmax(p, axis=1) == np.argmax(trainTarget, axis=1)) / trainTarget.shape[0]\n",
    "    train_accuracy.append(accuracy)\n",
    "\n",
    "    ## validation\n",
    "    s_h, x_h, s_o = forward_pass(validData, W_h, b_h, W_o, b_o)\n",
    "    p = softmax(s_o)\n",
    "\n",
    "    loss = average_ce(validTarget, p)\n",
    "    valid_loss.append(loss)\n",
    "\n",
    "    accuracy = np.sum(np.argmax(p, axis=1) == np.argmax(validTarget, axis=1)) / validTarget.shape[0]\n",
    "    valid_accuracy.append(accuracy)\n",
    "\n",
    "    ## testing\n",
    "    s_h, x_h, s_o = forward_pass(testData, W_h, b_h, W_o, b_o)\n",
    "    p = softmax(s_o)\n",
    "\n",
    "    loss = average_ce(testTarget, p)\n",
    "    test_loss.append(loss)\n",
    "\n",
    "    accuracy = np.sum(np.argmax(p, axis=1) == np.argmax(testTarget, axis=1)) / testTarget.shape[0]\n",
    "    test_accuracy.append(accuracy)\n",
    "\n",
    "    ## show results\n",
    "    print(\"%d \\t\\t %10.5f \\t\\t %10.5f \\t\\t %10.5f \\t\\t %10.5f \\t\\t %10.5f \\t\\t %10.5f\" %\n",
    "          (epoch, train_accuracy[-1], train_loss[-1], valid_accuracy[-1], valid_loss[-1], test_accuracy[-1], test_loss[-1]))\n"
   ]
  },
  {
   "cell_type": "markdown",
   "metadata": {},
   "source": [
    "Plot the accuracy and loss plot"
   ]
  },
  {
   "cell_type": "code",
   "execution_count": 306,
   "metadata": {},
   "outputs": [
    {
     "data": {
      "image/png": "[encoded data removed]",
      "text/plain": [
       "<Figure size 864x576 with 1 Axes>"
      ]
     },
     "metadata": {
      "needs_background": "light"
     },
     "output_type": "display_data"
    },
    {
     "name": "stdout",
     "output_type": "stream",
     "text": [
      "Final round loss: \n",
      "Training Loss: 5.8011717134037054e-05\n",
      "Validation Loss: 0.12753193433789553\n",
      "Testing Loss: 0.1344166805909439\n"
     ]
    },
    {
     "data": {
      "image/png": "[encoded data removed]",
      "text/plain": [
       "<Figure size 864x576 with 1 Axes>"
      ]
     },
     "metadata": {
      "needs_background": "light"
     },
     "output_type": "display_data"
    },
    {
     "name": "stdout",
     "output_type": "stream",
     "text": [
      "Final round accuracy: \n",
      "Final Training Accuracy: 0.9998\n",
      "Final Validation Accuracy: 0.9073333333333333\n",
      "Final Testing Accuracy: 0.9023494860499266\n"
     ]
    }
   ],
   "source": [
    "plot_curves(train_accuracy, train_loss, valid_accuracy, valid_loss, test_accuracy, test_loss)"
   ]
  }
 ],
 "metadata": {
  "interpreter": {
   "hash": "e2360a000a0cfe5081460c17beecfe8caa8ffc0b971d04eec0b4ad72260c01bb"
  },
  "kernelspec": {
   "display_name": "Python 3.9.7 ('base')",
   "language": "python",
   "name": "python3"
  },
  "language_info": {
   "codemirror_mode": {
    "name": "ipython",
    "version": 3
   },
   "file_extension": ".py",
   "mimetype": "text/x-python",
   "name": "python",
   "nbconvert_exporter": "python",
   "pygments_lexer": "ipython3",
   "version": "3.9.7"
  },
  "orig_nbformat": 4
 },
 "nbformat": 4,
 "nbformat_minor": 2
}
